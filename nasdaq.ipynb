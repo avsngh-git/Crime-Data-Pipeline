{
 "cells": [
  {
   "cell_type": "code",
   "execution_count": 3,
   "metadata": {},
   "outputs": [],
   "source": [
    "import nasdaqdatalink"
   ]
  },
  {
   "cell_type": "code",
   "execution_count": 16,
   "metadata": {},
   "outputs": [],
   "source": [
    "#https://data.nasdaq.com/data/RATEINF-inflation-rates\n",
    "rate_of_inflation = nasdaqdatalink.get('RATEINF/INFLATION_USA', start_date='2021-01-01', end_date='2022-08-10')"
   ]
  },
  {
   "cell_type": "code",
   "execution_count": 11,
   "metadata": {},
   "outputs": [],
   "source": [
    "#https://data.nasdaq.com/data/OPEC-organization-of-the-petroleum-exporting-countries\n",
    "#daily grain\n",
    "opec_oil_prices = nasdaqdatalink.get('OPEC/ORB', start_date='2021-01-01', end_date='2022-08-10')"
   ]
  },
  {
   "cell_type": "code",
   "execution_count": 13,
   "metadata": {},
   "outputs": [],
   "source": [
    "#https://data.nasdaq.com/data/UMICH-consumer-sentiment\n",
    "consumer_sentiment_index =nasdaqdatalink.get('UMICH/SOC1', start_date='2021-01-01', end_date='2022-08-10')"
   ]
  },
  {
   "cell_type": "code",
   "execution_count": 25,
   "metadata": {},
   "outputs": [],
   "source": [
    "#https://data.nasdaq.com/data/ML-corporate-bond-yield-rates\n",
    "# this series is on daily grain\n",
    "emerging_markets_high_yield_corporate_bond_index = nasdaqdatalink.get('ML/EMHYY', start_date='2021-01-01', end_date='2022-08-10')"
   ]
  },
  {
   "cell_type": "code",
   "execution_count": 15,
   "metadata": {},
   "outputs": [],
   "source": [
    "#https://data.nasdaq.com/data/USTREASURY-us-treasury\n",
    "#daily grain\n",
    "treasury_long_term_yield_curve_rates = nasdaqdatalink.get('USTREASURY/REALYIELD', start_date='2021-01-01', end_date='2022-08-10')"
   ]
  },
  {
   "cell_type": "code",
   "execution_count": 4,
   "metadata": {},
   "outputs": [],
   "source": [
    "#https://data.nasdaq.com/data/ML-corporate-bond-yield-rates\n",
    "# Also on daily grain. \n",
    "us_aaa_bond_yield_index = nasdaqdatalink.get('ML/AAAEY', start_date='2021-01-01', end_date='2022-08-10')"
   ]
  },
  {
   "cell_type": "code",
   "execution_count": 6,
   "metadata": {},
   "outputs": [],
   "source": [
    "#https://data.nasdaq.com/data/LBMA-london-bullion-market-association\n",
    "#Also on daily grain\n",
    "gold_price_london = nasdaqdatalink.get('LBMA/GOLD', start_date='2021-01-01', end_date='2022-08-10')\n",
    "silver_price_london = nasdaqdatalink.get('LBMA/SILVER', start_date='2021-01-01', end_date='2022-08-10')"
   ]
  },
  {
   "cell_type": "code",
   "execution_count": 17,
   "metadata": {},
   "outputs": [],
   "source": [
    "#https://data.nasdaq.com/data/FED-us-federal-reserve-data-releases?keyword=rate&page=7\n",
    "#daily grain\n",
    "aa_financial_commercial_paper_interest_rate = nasdaqdatalink.get('FED/RIFSPPFAAD01_N_B', start_date='2021-01-01', end_date='2022-08-10')"
   ]
  },
  {
   "cell_type": "code",
   "execution_count": 19,
   "metadata": {},
   "outputs": [],
   "source": [
    "#https://data.nasdaq.com/data/MULTPL-sp-500-ratios?page=4\n",
    "#monthly grain\n",
    "sandp500_earnings = nasdaqdatalink.get('MULTPL/SP500_EARNINGS_MONTH', start_date='2021-01-01', end_date='2022-08-10')"
   ]
  },
  {
   "cell_type": "code",
   "execution_count": 21,
   "metadata": {},
   "outputs": [],
   "source": [
    "nominal_broad_dollar_index = nasdaqdatalink.get('FED/JRXWTFB_N_B', start_date='2021-01-01', end_date='2022-08-10')"
   ]
  },
  {
   "cell_type": "code",
   "execution_count": 23,
   "metadata": {},
   "outputs": [],
   "source": [
    "spotexchangerate_euroarea = nasdaqdatalink.get('FED/RXI_US_N_B_EU', start_date='2021-01-01', end_date='2022-08-10')"
   ]
  },
  {
   "cell_type": "code",
   "execution_count": 26,
   "metadata": {},
   "outputs": [],
   "source": [
    "bse_sensex = nasdaqdatalink.get('BSE/SENSEX', start_date='2021-01-01', end_date='2022-08-10')"
   ]
  },
  {
   "cell_type": "code",
   "execution_count": 27,
   "metadata": {},
   "outputs": [
    {
     "data": {
      "text/html": [
       "<div>\n",
       "<style scoped>\n",
       "    .dataframe tbody tr th:only-of-type {\n",
       "        vertical-align: middle;\n",
       "    }\n",
       "\n",
       "    .dataframe tbody tr th {\n",
       "        vertical-align: top;\n",
       "    }\n",
       "\n",
       "    .dataframe thead th {\n",
       "        text-align: right;\n",
       "    }\n",
       "</style>\n",
       "<table border=\"1\" class=\"dataframe\">\n",
       "  <thead>\n",
       "    <tr style=\"text-align: right;\">\n",
       "      <th></th>\n",
       "      <th>Open</th>\n",
       "      <th>High</th>\n",
       "      <th>Low</th>\n",
       "      <th>Close</th>\n",
       "    </tr>\n",
       "    <tr>\n",
       "      <th>Date</th>\n",
       "      <th></th>\n",
       "      <th></th>\n",
       "      <th></th>\n",
       "      <th></th>\n",
       "    </tr>\n",
       "  </thead>\n",
       "  <tbody>\n",
       "    <tr>\n",
       "      <th>2021-01-01</th>\n",
       "      <td>47785.28</td>\n",
       "      <td>47980.36</td>\n",
       "      <td>47771.15</td>\n",
       "      <td>47868.98</td>\n",
       "    </tr>\n",
       "    <tr>\n",
       "      <th>2021-01-04</th>\n",
       "      <td>48109.17</td>\n",
       "      <td>48220.47</td>\n",
       "      <td>47594.47</td>\n",
       "      <td>48176.80</td>\n",
       "    </tr>\n",
       "    <tr>\n",
       "      <th>2021-01-05</th>\n",
       "      <td>48037.63</td>\n",
       "      <td>48486.24</td>\n",
       "      <td>47903.38</td>\n",
       "      <td>48437.78</td>\n",
       "    </tr>\n",
       "    <tr>\n",
       "      <th>2021-01-06</th>\n",
       "      <td>48616.66</td>\n",
       "      <td>48616.66</td>\n",
       "      <td>47864.14</td>\n",
       "      <td>48174.06</td>\n",
       "    </tr>\n",
       "    <tr>\n",
       "      <th>2021-01-07</th>\n",
       "      <td>48524.36</td>\n",
       "      <td>48558.34</td>\n",
       "      <td>48037.87</td>\n",
       "      <td>48093.32</td>\n",
       "    </tr>\n",
       "    <tr>\n",
       "      <th>...</th>\n",
       "      <td>...</td>\n",
       "      <td>...</td>\n",
       "      <td>...</td>\n",
       "      <td>...</td>\n",
       "    </tr>\n",
       "    <tr>\n",
       "      <th>2022-08-03</th>\n",
       "      <td>58174.11</td>\n",
       "      <td>58415.63</td>\n",
       "      <td>57788.78</td>\n",
       "      <td>58350.53</td>\n",
       "    </tr>\n",
       "    <tr>\n",
       "      <th>2022-08-04</th>\n",
       "      <td>58571.28</td>\n",
       "      <td>58712.66</td>\n",
       "      <td>57577.05</td>\n",
       "      <td>58298.80</td>\n",
       "    </tr>\n",
       "    <tr>\n",
       "      <th>2022-08-05</th>\n",
       "      <td>58421.04</td>\n",
       "      <td>58649.19</td>\n",
       "      <td>58244.86</td>\n",
       "      <td>58387.93</td>\n",
       "    </tr>\n",
       "    <tr>\n",
       "      <th>2022-08-08</th>\n",
       "      <td>58417.71</td>\n",
       "      <td>58934.90</td>\n",
       "      <td>58266.65</td>\n",
       "      <td>58853.07</td>\n",
       "    </tr>\n",
       "    <tr>\n",
       "      <th>2022-08-10</th>\n",
       "      <td>58977.34</td>\n",
       "      <td>58984.32</td>\n",
       "      <td>58583.36</td>\n",
       "      <td>58817.29</td>\n",
       "    </tr>\n",
       "  </tbody>\n",
       "</table>\n",
       "<p>399 rows × 4 columns</p>\n",
       "</div>"
      ],
      "text/plain": [
       "                Open      High       Low     Close\n",
       "Date                                              \n",
       "2021-01-01  47785.28  47980.36  47771.15  47868.98\n",
       "2021-01-04  48109.17  48220.47  47594.47  48176.80\n",
       "2021-01-05  48037.63  48486.24  47903.38  48437.78\n",
       "2021-01-06  48616.66  48616.66  47864.14  48174.06\n",
       "2021-01-07  48524.36  48558.34  48037.87  48093.32\n",
       "...              ...       ...       ...       ...\n",
       "2022-08-03  58174.11  58415.63  57788.78  58350.53\n",
       "2022-08-04  58571.28  58712.66  57577.05  58298.80\n",
       "2022-08-05  58421.04  58649.19  58244.86  58387.93\n",
       "2022-08-08  58417.71  58934.90  58266.65  58853.07\n",
       "2022-08-10  58977.34  58984.32  58583.36  58817.29\n",
       "\n",
       "[399 rows x 4 columns]"
      ]
     },
     "execution_count": 27,
     "metadata": {},
     "output_type": "execute_result"
    }
   ],
   "source": [
    "bse_sensex"
   ]
  },
  {
   "cell_type": "code",
   "execution_count": null,
   "metadata": {},
   "outputs": [],
   "source": []
  }
 ],
 "metadata": {
  "kernelspec": {
   "display_name": "Python 3.9.12 ('base')",
   "language": "python",
   "name": "python3"
  },
  "language_info": {
   "codemirror_mode": {
    "name": "ipython",
    "version": 3
   },
   "file_extension": ".py",
   "mimetype": "text/x-python",
   "name": "python",
   "nbconvert_exporter": "python",
   "pygments_lexer": "ipython3",
   "version": "3.9.12"
  },
  "orig_nbformat": 4,
  "vscode": {
   "interpreter": {
    "hash": "bc4cfecc69e7e78778ca0625e692376743fea3692aceab2f0b9ba68a0d016c23"
   }
  }
 },
 "nbformat": 4,
 "nbformat_minor": 2
}
